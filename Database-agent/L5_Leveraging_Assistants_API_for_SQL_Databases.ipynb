{
 "cells": [
  {
   "cell_type": "code",
   "execution_count": 6,
   "id": "8a6bf71e0503198e",
   "metadata": {
    "ExecuteTime": {
     "end_time": "2024-06-28T06:57:52.181075Z",
     "start_time": "2024-06-28T06:57:52.145091Z"
    },
    "collapsed": false,
    "jupyter": {
     "outputs_hidden": false
    }
   },
   "outputs": [],
   "source": [
    "from openai import AzureOpenAI\n",
    "import json\n",
    "import os\n",
    "import Helper\n",
    "from Helper import get_positive_cases_for_state_on_date\n",
    "from Helper import get_hospitalized_increase_for_state_on_date\n",
    "from dotenv import load_dotenv\n",
    "import time \n",
    "from IPython.display import clear_output"
   ]
  },
  {
   "cell_type": "code",
   "execution_count": 7,
   "id": "a7c51bb3b91d9dbb",
   "metadata": {
    "collapsed": false,
    "jupyter": {
     "outputs_hidden": false
    }
   },
   "outputs": [
    {
     "data": {
      "text/plain": [
       "True"
      ]
     },
     "execution_count": 7,
     "metadata": {},
     "output_type": "execute_result"
    }
   ],
   "source": [
    "load_dotenv()"
   ]
  },
  {
   "cell_type": "code",
   "execution_count": 8,
   "id": "b01c4679fd569c0",
   "metadata": {
    "ExecuteTime": {
     "end_time": "2024-06-28T06:17:19.185193Z",
     "start_time": "2024-06-28T06:17:19.115743Z"
    },
    "collapsed": false,
    "jupyter": {
     "outputs_hidden": false
    }
   },
   "outputs": [],
   "source": [
    "# III) Add message\n",
    "client = AzureOpenAI(\n",
    "    api_key=os.getenv(\"OPENAI_API_KEY\"),\n",
    "    api_version=os.getenv(\"OPENAI_API_VERSION\"),\n",
    "    azure_endpoint=os.getenv(\"AZURE_ENDPOINT\")\n",
    ")"
   ]
  },
  {
   "cell_type": "code",
   "execution_count": 9,
   "id": "5ae7db41dd754f24",
   "metadata": {
    "ExecuteTime": {
     "end_time": "2024-06-28T07:15:25.273190Z",
     "start_time": "2024-06-28T07:15:25.240452Z"
    },
    "collapsed": false,
    "jupyter": {
     "outputs_hidden": false
    }
   },
   "outputs": [],
   "source": [
    "assistant = client.beta.assistants.create(\n",
    "    instructions=\"\"\"You are an assistant answering questions \n",
    "                  about a Covid dataset.\"\"\",\n",
    "    model=os.getenv('AZURE_DEPLOYMENT'),\n",
    "    tools=Helper.tools_sql)\n"
   ]
  },
  {
   "cell_type": "code",
   "execution_count": 10,
   "id": "91ead6b97603b59b",
   "metadata": {
    "collapsed": false,
    "jupyter": {
     "outputs_hidden": false
    }
   },
   "outputs": [
    {
     "name": "stdout",
     "output_type": "stream",
     "text": [
      "Thread(id='thread_004lyIxVtH9qWicgRqoZkYfv', created_at=1732724662, metadata={}, object='thread')\n",
      "{\n",
      "  \"id\": \"msg_CO5H5jhC1gITeMRtLAtoMQag\",\n",
      "  \"assistant_id\": null,\n",
      "  \"content\": [\n",
      "    {\n",
      "      \"text\": {\n",
      "        \"annotations\": [],\n",
      "        \"value\": \"how many hospitalized people we had in Alaska\\n               the 2021-03-05?\"\n",
      "      },\n",
      "      \"type\": \"text\"\n",
      "    }\n",
      "  ],\n",
      "  \"created_at\": 1732724663,\n",
      "  \"file_ids\": [],\n",
      "  \"metadata\": {},\n",
      "  \"object\": \"thread.message\",\n",
      "  \"role\": \"user\",\n",
      "  \"run_id\": null,\n",
      "  \"thread_id\": \"thread_004lyIxVtH9qWicgRqoZkYfv\"\n",
      "}\n"
     ]
    }
   ],
   "source": [
    "thread = client.beta.threads.create()\n",
    "print(thread)\n",
    "message = client.beta.threads.messages.create(\n",
    "    thread_id=thread.id,\n",
    "    role=\"user\",\n",
    "    content=\"\"\"how many hospitalized people we had in Alaska\n",
    "               the 2021-03-05?\"\"\"\n",
    ")\n",
    "print(message.model_dump_json(indent=2))"
   ]
  },
  {
   "cell_type": "code",
   "execution_count": 12,
   "id": "669a57e56ed53824",
   "metadata": {
    "ExecuteTime": {
     "end_time": "2024-06-28T07:15:27.088435Z",
     "start_time": "2024-06-28T07:15:26.877039Z"
    },
    "collapsed": false,
    "jupyter": {
     "outputs_hidden": false
    }
   },
   "outputs": [
    {
     "name": "stdout",
     "output_type": "stream",
     "text": [
      "{\n",
      "  \"data\": [\n",
      "    {\n",
      "      \"id\": \"msg_CO5H5jhC1gITeMRtLAtoMQag\",\n",
      "      \"assistant_id\": null,\n",
      "      \"content\": [\n",
      "        {\n",
      "          \"text\": {\n",
      "            \"annotations\": [],\n",
      "            \"value\": \"how many hospitalized people we had in Alaska\\n               the 2021-03-05?\"\n",
      "          },\n",
      "          \"type\": \"text\"\n",
      "        }\n",
      "      ],\n",
      "      \"created_at\": 1732724663,\n",
      "      \"file_ids\": [],\n",
      "      \"metadata\": {},\n",
      "      \"object\": \"thread.message\",\n",
      "      \"role\": \"user\",\n",
      "      \"run_id\": null,\n",
      "      \"thread_id\": \"thread_004lyIxVtH9qWicgRqoZkYfv\"\n",
      "    }\n",
      "  ],\n",
      "  \"object\": \"list\",\n",
      "  \"first_id\": \"msg_CO5H5jhC1gITeMRtLAtoMQag\",\n",
      "  \"last_id\": \"msg_CO5H5jhC1gITeMRtLAtoMQag\",\n",
      "  \"has_more\": false\n",
      "}\n"
     ]
    }
   ],
   "source": [
    "messages = client.beta.threads.messages.list(\n",
    "    thread_id=thread.id\n",
    ")\n",
    "\n",
    "print(messages.model_dump_json(indent=2))"
   ]
  },
  {
   "cell_type": "code",
   "execution_count": 13,
   "id": "31b9b2273cbf4e9",
   "metadata": {
    "ExecuteTime": {
     "end_time": "2024-06-28T06:18:07.690187Z",
     "start_time": "2024-06-28T06:18:06.153653Z"
    },
    "collapsed": false,
    "jupyter": {
     "outputs_hidden": false
    }
   },
   "outputs": [],
   "source": [
    "# IV) Run assistant on thread\n",
    "\n",
    "run = client.beta.threads.runs.create(\n",
    "    thread_id=thread.id,\n",
    "    assistant_id=assistant.id,\n",
    ")"
   ]
  },
  {
   "cell_type": "code",
   "execution_count": 15,
   "id": "d65402fe49db04ba",
   "metadata": {
    "ExecuteTime": {
     "end_time": "2024-06-28T07:15:29.592585Z",
     "start_time": "2024-06-28T07:15:28.470840Z"
    },
    "collapsed": false,
    "jupyter": {
     "outputs_hidden": false
    }
   },
   "outputs": [
    {
     "name": "stdout",
     "output_type": "stream",
     "text": [
      "Elapsed time: 0 minutes 5 seconds\n",
      "Status: in_progress\n",
      "Elapsed time: 0 minutes 10 seconds\n",
      "Status: failed\n"
     ]
    }
   ],
   "source": [
    "start_time = time.time()\n",
    "\n",
    "status = run.status\n",
    "\n",
    "while status not in [\"completed\", \"cancelled\", \"expired\", \"failed\"]:\n",
    "    time.sleep(5)\n",
    "    run = client.beta.threads.runs.retrieve(\n",
    "        thread_id=thread.id, run_id=run.id\n",
    "    )\n",
    "    print(\"Elapsed time: {} minutes {} seconds\".format(\n",
    "        int((time.time() - start_time) // 60),\n",
    "        int((time.time() - start_time) % 60))\n",
    "    )\n",
    "    status = run.status\n",
    "    print(f'Status: {status}')\n",
    "    if (status == \"requires_action\"):\n",
    "        available_functions = {\n",
    "            \"get_positive_cases_for_state_on_date\": get_positive_cases_for_state_on_date,\n",
    "            \"get_hospitalized_increase_for_state_on_date\": get_hospitalized_increase_for_state_on_date\n",
    "        }\n",
    "\n",
    "        tool_outputs = []\n",
    "        for tool_call in run.required_action.submit_tool_outputs.tool_calls:\n",
    "            function_name = tool_call.function.name\n",
    "            function_to_call = available_functions[function_name]\n",
    "            function_args = json.loads(tool_call.function.arguments)\n",
    "            function_response = function_to_call(\n",
    "                state_abbr=function_args.get(\"state_abbr\"),\n",
    "                specific_date=function_args.get(\"specific_date\"),\n",
    "            )\n",
    "            print(function_response)\n",
    "            print(tool_call.id)\n",
    "            tool_outputs.append(\n",
    "                {\"tool_call_id\": tool_call.id,\n",
    "                 \"output\": str(function_response)\n",
    "                 }\n",
    "            )\n",
    "\n",
    "        run = client.beta.threads.runs.submit_tool_outputs(\n",
    "            thread_id=thread.id,\n",
    "            run_id=run.id,\n",
    "            tool_outputs=tool_outputs\n",
    "        )\n",
    "\n",
    "messages = client.beta.threads.messages.list(\n",
    "    thread_id=thread.id\n",
    ")\n",
    "\n"
   ]
  },
  {
   "cell_type": "code",
   "execution_count": 16,
   "id": "5b3a60f09f1a02d2",
   "metadata": {
    "collapsed": false,
    "jupyter": {
     "outputs_hidden": false
    }
   },
   "outputs": [
    {
     "name": "stdout",
     "output_type": "stream",
     "text": [
      "{\n",
      "  \"data\": [\n",
      "    {\n",
      "      \"id\": \"msg_yvN2hFEahHuHVhZldR9MzetC\",\n",
      "      \"assistant_id\": \"asst_tOULvdBrrAqa681ZiB4JPnvY\",\n",
      "      \"content\": [\n",
      "        {\n",
      "          \"text\": {\n",
      "            \"annotations\": [],\n",
      "            \"value\": \"To provide you with the accurate number of hospitalized people in Alaska on March 5, 2021, I need to check the available COVID-19 dataset for this specific information. Let me do that for you.\"\n",
      "          },\n",
      "          \"type\": \"text\"\n",
      "        }\n",
      "      ],\n",
      "      \"created_at\": 1732724680,\n",
      "      \"file_ids\": [],\n",
      "      \"metadata\": {},\n",
      "      \"object\": \"thread.message\",\n",
      "      \"role\": \"assistant\",\n",
      "      \"run_id\": \"run_VNepCQZnfFF2mgSBA4IdRWs2\",\n",
      "      \"thread_id\": \"thread_0XkdXZIAA40TgvOziZlFqHZ3\"\n",
      "    },\n",
      "    {\n",
      "      \"id\": \"msg_7Kc7gGBJJ1ywJ1G8jzAIwGqm\",\n",
      "      \"assistant_id\": null,\n",
      "      \"content\": [\n",
      "        {\n",
      "          \"text\": {\n",
      "            \"annotations\": [],\n",
      "            \"value\": \"how many hospitalized people we had in Alaska in 2021-03-05?\"\n",
      "          },\n",
      "          \"type\": \"text\"\n",
      "        }\n",
      "      ],\n",
      "      \"created_at\": 1732724679,\n",
      "      \"file_ids\": [],\n",
      "      \"metadata\": {},\n",
      "      \"object\": \"thread.message\",\n",
      "      \"role\": \"user\",\n",
      "      \"run_id\": null,\n",
      "      \"thread_id\": \"thread_0XkdXZIAA40TgvOziZlFqHZ3\"\n",
      "    }\n",
      "  ],\n",
      "  \"object\": \"list\",\n",
      "  \"first_id\": \"msg_yvN2hFEahHuHVhZldR9MzetC\",\n",
      "  \"last_id\": \"msg_7Kc7gGBJJ1ywJ1G8jzAIwGqm\",\n",
      "  \"has_more\": false\n",
      "}\n"
     ]
    }
   ],
   "source": [
    "print(messages.model_dump_json(indent=2))"
   ]
  },
  {
   "cell_type": "code",
   "execution_count": 20,
   "id": "743a20e9f2d4a3cb",
   "metadata": {
    "collapsed": false,
    "jupyter": {
     "outputs_hidden": false
    }
   },
   "outputs": [
    {
     "name": "stdout",
     "output_type": "stream",
     "text": [
      "Thread(id='thread_FQJjkxMWkwCSC50wFo14x6As', created_at=1732724782, metadata={}, object='thread')\n",
      "ThreadMessage(id='msg_DArhm4RIraXAWp2mVwYPyfxQ', assistant_id=None, content=[MessageContentText(text=Text(annotations=[], value='how many hospitalized people we had in Alaska in 2021-03-05?'), type='text')], created_at=1732724782, file_ids=[], metadata={}, object='thread.message', role='user', run_id=None, thread_id='thread_FQJjkxMWkwCSC50wFo14x6As')\n"
     ]
    }
   ],
   "source": [
    "data = open(\"./data/all-states-history.csv\", \"rb\")\n",
    "file = client.files.create(\n",
    "    file=data,\n",
    "    purpose='assistants'\n",
    ")\n",
    "\n",
    "assistant = client.beta.assistants.create(\n",
    "    instructions=\"\"\"You are an assistant answering questions about\n",
    "                  a Covid dataset.\"\"\",\n",
    "    model=os.getenv('AZURE_DEPLOYMENT'),\n",
    "    tools=[{\"type\": \"code_interpreter\"}]\n",
    ")\n",
    "\n",
    "# Linking the file to the assistant through another method if available or manually managing the file within your process\n",
    "# if no direct method exists, you can load the file data into the assistant’s context during interactions.\n",
    "\n",
    "thread = client.beta.threads.create()\n",
    "\n",
    "print(thread)\n",
    "\n",
    "message = client.beta.threads.messages.create(\n",
    "    thread_id=thread.id,\n",
    "    role=\"user\",\n",
    "    content=\"\"\"how many hospitalized people we had in Alaska in 2021-03-05?\"\"\"\n",
    ")\n",
    "\n",
    "print(message)\n",
    "\n",
    "run = client.beta.threads.runs.create(\n",
    "    thread_id=thread.id,\n",
    "    assistant_id=assistant.id,\n",
    ")\n"
   ]
  },
  {
   "cell_type": "code",
   "execution_count": 21,
   "id": "857f2687f9683b9d",
   "metadata": {
    "ExecuteTime": {
     "end_time": "2024-06-28T07:15:38.630157Z",
     "start_time": "2024-06-28T07:15:37.700432Z"
    },
    "collapsed": false,
    "jupyter": {
     "outputs_hidden": false
    }
   },
   "outputs": [
    {
     "name": "stdout",
     "output_type": "stream",
     "text": [
      "Error Details: Run(id='run_bQrzv1ZDHuogmpSeBZEE1gdD', assistant_id='asst_g3rJftQTzqitgXBnxv8jkgQU', cancelled_at=None, completed_at=None, created_at=1732724782, expires_at=None, failed_at=1732724804, file_ids=[], instructions='You are an assistant answering questions about\\n                  a Covid dataset.', last_error=LastError(code='rate_limit_exceeded', message='Rate limit is exceeded. Try again in 48 seconds.'), metadata={}, model='gpt4-turbo', object='thread.run', required_action=None, started_at=1732724783, status='failed', thread_id='thread_FQJjkxMWkwCSC50wFo14x6As', tools=[ToolAssistantToolsCode(type='code_interpreter')], usage=Usage(completion_tokens=0, prompt_tokens=0, total_tokens=0), temperature=1.0, top_p=1.0, max_completion_tokens=None, max_prompt_tokens=None, truncation_strategy={'type': 'auto', 'last_messages': None}, incomplete_details=None, response_format='auto', tool_choice='auto', parallel_tool_calls=True)\n"
     ]
    }
   ],
   "source": [
    "status = run.status\n",
    "start_time = time.time()\n",
    "while status not in [\"completed\", \"cancelled\", \"expired\", \"failed\"]:\n",
    "    time.sleep(5)\n",
    "    run = client.beta.threads.runs.retrieve(\n",
    "        thread_id=thread.id,\n",
    "        run_id=run.id\n",
    "    )\n",
    "    print(\"Elapsed time: {} minutes {} seconds\".format(\n",
    "        int((time.time() - start_time) // 60),\n",
    "        int((time.time() - start_time) % 60))\n",
    "    )\n",
    "    status = run.status\n",
    "    print(f'Status: {status}')\n",
    "    clear_output(wait=True)\n",
    "    \n",
    "if status == \"failed\":\n",
    "    error_details = client.beta.threads.runs.retrieve(\n",
    "        thread_id=thread.id,\n",
    "        run_id=run.id\n",
    "    )\n",
    "    print(\"Error Details:\", error_details)\n",
    "\n",
    "messages = client.beta.threads.messages.list(\n",
    "    thread_id=thread.id\n",
    ")"
   ]
  },
  {
   "cell_type": "code",
   "execution_count": null,
   "id": "b8310143-71a3-4a6c-846a-70c08e168be3",
   "metadata": {},
   "outputs": [],
   "source": [
    "print(messages.model_dump_json(indent=2))"
   ]
  }
 ],
 "metadata": {
  "kernelspec": {
   "display_name": "Python 3 (ipykernel)",
   "language": "python",
   "name": "python3"
  },
  "language_info": {
   "codemirror_mode": {
    "name": "ipython",
    "version": 3
   },
   "file_extension": ".py",
   "mimetype": "text/x-python",
   "name": "python",
   "nbconvert_exporter": "python",
   "pygments_lexer": "ipython3",
   "version": "3.11.7"
  }
 },
 "nbformat": 4,
 "nbformat_minor": 5
}
