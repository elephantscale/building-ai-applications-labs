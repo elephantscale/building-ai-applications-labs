{
 "cells": [
  {
   "cell_type": "markdown",
   "id": "d792f35b",
   "metadata": {},
   "source": [
    "# Lesson 2: Interacting with a CSV Data"
   ]
  },
  {
   "cell_type": "markdown",
   "id": "6be6d049",
   "metadata": {},
   "source": [
    "## Setup and connect to the Azure OpenAI endpoint"
   ]
  },
  {
   "cell_type": "markdown",
   "id": "399c89a2",
   "metadata": {},
   "source": [
    "**Note**: The pre-configured cloud resource grants you access to the Azure OpenAI GPT model. The key and endpoint provided below are intended for teaching purposes only. Your notebook environment is already set up with the necessary keys, which may differ from those used by the instructor during the filming."
   ]
  },
  {
   "cell_type": "code",
   "execution_count": 1,
   "id": "99f35756908dc40",
   "metadata": {
    "ExecuteTime": {
     "end_time": "2024-06-28T07:37:58.305239Z",
     "start_time": "2024-06-28T07:37:57.000371Z"
    },
    "collapsed": false,
    "jupyter": {
     "outputs_hidden": false
    }
   },
   "outputs": [],
   "source": [
    "import os \n",
    "from dotenv import load_dotenv\n",
    "import pandas as pd\n",
    "from langchain_openai import AzureChatOpenAI\n",
    "from langchain_experimental.agents.agent_toolkits import create_pandas_dataframe_agent"
   ]
  },
  {
   "cell_type": "code",
   "execution_count": 2,
   "id": "ffa41ddff6500a1a",
   "metadata": {
    "ExecuteTime": {
     "end_time": "2024-06-28T07:37:59.231231Z",
     "start_time": "2024-06-28T07:37:59.223789Z"
    },
    "collapsed": false,
    "jupyter": {
     "outputs_hidden": false
    }
   },
   "outputs": [
    {
     "data": {
      "text/plain": [
       "True"
      ]
     },
     "execution_count": 2,
     "metadata": {},
     "output_type": "execute_result"
    }
   ],
   "source": [
    "load_dotenv()"
   ]
  },
  {
   "cell_type": "code",
   "execution_count": 3,
   "id": "83ac3e59-d0d1-4110-a059-3a55d0d5e15e",
   "metadata": {
    "ExecuteTime": {
     "end_time": "2024-06-28T07:38:00.944567Z",
     "start_time": "2024-06-28T07:38:00.867329Z"
    },
    "height": 217
   },
   "outputs": [],
   "source": [
    "model = AzureChatOpenAI(\n",
    "    openai_api_version=os.getenv('OPENAI_API_VERSION'),\n",
    "    azure_deployment=os.getenv('AZURE_DEPLOYMENT'),\n",
    "    openai_api_key=os.getenv('OPENAI_API_KEY'),\n",
    "    azure_endpoint=os.getenv('AZURE_ENDPOINT')\n",
    ")"
   ]
  },
  {
   "cell_type": "markdown",
   "id": "ba9075a3",
   "metadata": {},
   "source": [
    "## Load the dataset"
   ]
  },
  {
   "cell_type": "markdown",
   "id": "fb0dc855",
   "metadata": {
    "ExecuteTime": {
     "end_time": "2024-06-28T07:11:52.286079Z",
     "start_time": "2024-06-28T07:11:52.183286Z"
    }
   },
   "source": [
    "**Note**: To access the data locally, use the following code:\n",
    "\n",
    "```\n",
    "os.makedirs(\"data\",exist_ok=True)\n",
    "!wget https://covidtracking.com/data/download/all-states-history.csv -P ./data/\n",
    "file_url = \"./data/all-states-history.csv\"\n",
    "df = pd.read_csv(file_url).fillna(value = 0)\n",
    "```"
   ]
  },
  {
   "cell_type": "code",
   "execution_count": 4,
   "id": "b6c75799-55e2-4d39-a1ab-7b968b4f35a4",
   "metadata": {
    "ExecuteTime": {
     "end_time": "2024-06-28T07:38:07.250709Z",
     "start_time": "2024-06-28T07:38:07.156435Z"
    },
    "height": 30
   },
   "outputs": [],
   "source": [
    "df = pd.read_csv(\"./data/all-states-history.csv\").fillna(value = 0)"
   ]
  },
  {
   "cell_type": "markdown",
   "id": "a6a261ac",
   "metadata": {
    "ExecuteTime": {
     "end_time": "2024-06-28T07:12:08.503212Z",
     "start_time": "2024-06-28T07:12:02.312879Z"
    }
   },
   "source": [
    "## Prepare the Langchain dataframe agent"
   ]
  },
  {
   "cell_type": "code",
   "execution_count": 5,
   "id": "60d0793b-90e7-4e8b-b2f1-66a8d1cf652d",
   "metadata": {
    "height": 115
   },
   "outputs": [
    {
     "name": "stdout",
     "output_type": "stream",
     "text": [
      "\n",
      "\n",
      "\u001b[1m> Entering new AgentExecutor chain...\u001b[0m\n",
      "\u001b[32;1m\u001b[1;3mThought: To determine the number of rows in the dataframe `df`, I can use the `shape` attribute which returns a tuple containing the number of rows and columns in the dataframe. The first element of this tuple represents the number of rows.\n",
      "Action: python_repl_ast\n",
      "Action Input: df.shape[0]\u001b[0m\u001b[36;1m\u001b[1;3m20780\u001b[0m\u001b[32;1m\u001b[1;3mI now know the final answer.\n",
      "Final Answer: There are 20,780 rows in the dataframe `df`.\u001b[0m\n",
      "\n",
      "\u001b[1m> Finished chain.\u001b[0m\n"
     ]
    },
    {
     "data": {
      "text/plain": [
       "{'input': 'how many rows are there?',\n",
       " 'output': 'There are 20,780 rows in the dataframe `df`.'}"
      ]
     },
     "execution_count": 5,
     "metadata": {},
     "output_type": "execute_result"
    }
   ],
   "source": [
    "agent = create_pandas_dataframe_agent(llm=model,df=df,verbose=True,allow_dangerous_code=True)\n",
    "\n",
    "agent.invoke(\"how many rows are there?\")"
   ]
  },
  {
   "cell_type": "markdown",
   "id": "7c6dedce",
   "metadata": {
    "ExecuteTime": {
     "end_time": "2024-06-28T07:11:29.422656Z",
     "start_time": "2024-06-28T07:10:17.704804Z"
    }
   },
   "source": [
    "## Design your prompt and ask your question"
   ]
  },
  {
   "cell_type": "code",
   "execution_count": 8,
   "id": "c734edee-8745-403a-85dc-614edf0fdee4",
   "metadata": {},
   "outputs": [
    {
     "name": "stdout",
     "output_type": "stream",
     "text": [
      "\n",
      "\n",
      "\u001b[1m> Entering new AgentExecutor chain...\u001b[0m\n",
      "\u001b[32;1m\u001b[1;3mThought: Before proceeding to calculate the number of patients hospitalized during July 2021, I need to set the pandas display options to show all columns and retrieve the column names of the dataframe `df`.\n",
      "\n",
      "Action: python_repl_ast\n",
      "Action Input: import pandas as pd; pd.set_option('display.max_columns', None); df.columns.tolist()\u001b[0m\u001b[36;1m\u001b[1;3m['date', 'state', 'death', 'deathConfirmed', 'deathIncrease', 'deathProbable', 'hospitalized', 'hospitalizedCumulative', 'hospitalizedCurrently', 'hospitalizedIncrease', 'inIcuCumulative', 'inIcuCurrently', 'negative', 'negativeIncrease', 'negativeTestsAntibody', 'negativeTestsPeopleAntibody', 'negativeTestsViral', 'onVentilatorCumulative', 'onVentilatorCurrently', 'positive', 'positiveCasesViral', 'positiveIncrease', 'positiveScore', 'positiveTestsAntibody', 'positiveTestsAntigen', 'positiveTestsPeopleAntibody', 'positiveTestsPeopleAntigen', 'positiveTestsViral', 'recovered', 'totalTestEncountersViral', 'totalTestEncountersViralIncrease', 'totalTestResults', 'totalTestResultsIncrease', 'totalTestsAntibody', 'totalTestsAntigen', 'totalTestsPeopleAntibody', 'totalTestsPeopleAntigen', 'totalTestsPeopleViral', 'totalTestsPeopleViralIncrease', 'totalTestsViral', 'totalTestsViralIncrease']\u001b[0m\u001b[32;1m\u001b[1;3mTo calculate the number of patients hospitalized during July 2021, I can filter `df` for dates within July 2021 and then sum the values in the 'hospitalizedCurrently' column to get the total number of patients hospitalized during that month. However, it's important to note that this approach assumes 'hospitalizedCurrently' represents the daily number of hospitalized patients, which may not directly give the total number hospitalized over the month without considering the data's nature and how it's reported. Another approach could involve the 'hospitalizedIncrease' column, which indicates daily increases in total hospitalizations, but this would represent new hospitalizations rather than the total number of patients in hospital on any given day. Given the data preview and the columns available, I will proceed with the first method and reflect on its implications.\n",
      "\n",
      "Action: python_repl_ast\n",
      "Action Input: df['date'] = pd.to_datetime(df['date']); df_july_2021 = df[(df['date'] >= '2021-07-01') & (df['date'] <= '2021-07-31')]; df_july_2021['hospitalizedCurrently'].sum()\u001b[0m\u001b[36;1m\u001b[1;3m0.0\u001b[0m\u001b[32;1m\u001b[1;3mThe initial approach using the 'hospitalizedCurrently' column for July 2021 resulted in a total of 0.0, which suggests that either there were no hospitalized patients reported in this dataset during July 2021, or the dataset might not include entries for July 2021 based on the data preview provided. To verify the presence of July 2021 data and to ensure accuracy, I will try another method.\n",
      "\n",
      "This time, I will check the range of dates included in the dataset to confirm if July 2021 is covered. This is essential to ensure that the initial method's result of 0.0 is not due to the absence of data for that period. \n",
      "\n",
      "Action: python_repl_ast\n",
      "Action Input: df['date'].min(), df['date'].max()\u001b[0m\u001b[36;1m\u001b[1;3m(Timestamp('2020-01-13 00:00:00'), Timestamp('2021-03-07 00:00:00'))\u001b[0m\u001b[32;1m\u001b[1;3mThe range of dates in the dataset spans from January 13, 2020, to March 7, 2021. This confirms that the dataset does not include data for July 2021, which explains why the initial method resulted in a total of 0.0 for hospitalized patients during that month. Since the dataset does not cover the period in question, it is not possible to calculate the number of patients hospitalized during July 2021 using this dataset.\n",
      "\n",
      "Final Answer:\n",
      "\n",
      "It is not possible to determine the number of patients hospitalized during July 2021 using the provided dataset, as the dataset does not include data for this period. The dataset's date range is from January 13, 2020, to March 7, 2021, which does not encompass July 2021.\n",
      "\n",
      "Explanation:\n",
      "\n",
      "The approach to find the number of patients hospitalized during July 2021 involved attempting to filter the dataframe `df` for dates within July 2021 and summing the values in the 'hospitalizedCurrently' column. However, upon checking the range of dates included in the dataset using `df['date'].min()` and `df['date'].max()`, it was discovered that the dataset's coverage ends on March 7, 2021, and does not include the month of July 2021. This confirms that the dataset provided cannot be used to answer the original question.\u001b[0m\n",
      "\n",
      "\u001b[1m> Finished chain.\u001b[0m\n"
     ]
    },
    {
     "data": {
      "text/plain": [
       "{'input': '\\nFirst set the pandas display options to show all the columns,\\nget the column names, then answer the question.\\nHow may patients were hospitalized during July 2021\\n- **ALWAYS** before giving the Final Answer, try another method.\\nThen reflect on the answers of the two methods you did and ask yourself\\nif it answers correctly the original question.\\nIf you are not sure, try another method.\\n- If the methods tried do not give the same result,reflect and\\ntry again until you have two methods that have the same result.\\n- If you still cannot arrive to a consistent result, say that\\nyou are not sure of the answer.\\n- If you are sure of the correct answer, create a beautiful\\nand thorough response using Markdown.\\n- **DO NOT MAKE UP AN ANSWER OR USE PRIOR KNOWLEDGE,\\nONLY USE THE RESULTS OF THE CALCULATIONS YOU HAVE DONE**.\\n- **ALWAYS**, as part of your \"Final Answer\", explain how you got\\nto the answer on a section that starts with: \"\\n\\nExplanation:\\n\".\\nIn the explanation, mention the column names that you used to get\\nto the final answer.\\n',\n",
       " 'output': \"It is not possible to determine the number of patients hospitalized during July 2021 using the provided dataset, as the dataset does not include data for this period. The dataset's date range is from January 13, 2020, to March 7, 2021, which does not encompass July 2021.\\n\\nExplanation:\\n\\nThe approach to find the number of patients hospitalized during July 2021 involved attempting to filter the dataframe `df` for dates within July 2021 and summing the values in the 'hospitalizedCurrently' column. However, upon checking the range of dates included in the dataset using `df['date'].min()` and `df['date'].max()`, it was discovered that the dataset's coverage ends on March 7, 2021, and does not include the month of July 2021. This confirms that the dataset provided cannot be used to answer the original question.\"}"
      ]
     },
     "execution_count": 8,
     "metadata": {},
     "output_type": "execute_result"
    }
   ],
   "source": [
    "CSV_PROMPT_PREFIX = \"\"\"\n",
    "First set the pandas display options to show all the columns,\n",
    "get the column names, then answer the question.\n",
    "\"\"\"\n",
    "\n",
    "CSV_PROMPT_SUFFIX = \"\"\"\n",
    "- **ALWAYS** before giving the Final Answer, try another method.\n",
    "Then reflect on the answers of the two methods you did and ask yourself\n",
    "if it answers correctly the original question.\n",
    "If you are not sure, try another method.\n",
    "- If the methods tried do not give the same result,reflect and\n",
    "try again until you have two methods that have the same result.\n",
    "- If you still cannot arrive to a consistent result, say that\n",
    "you are not sure of the answer.\n",
    "- If you are sure of the correct answer, create a beautiful\n",
    "and thorough response using Markdown.\n",
    "- **DO NOT MAKE UP AN ANSWER OR USE PRIOR KNOWLEDGE,\n",
    "ONLY USE THE RESULTS OF THE CALCULATIONS YOU HAVE DONE**.\n",
    "- **ALWAYS**, as part of your \"Final Answer\", explain how you got\n",
    "to the answer on a section that starts with: \"\\n\\nExplanation:\\n\".\n",
    "In the explanation, mention the column names that you used to get\n",
    "to the final answer.\n",
    "\"\"\"\n",
    "\n",
    "QUESTION = \"How may patients were hospitalized during July 2021\" \n",
    "\"in Texas, and nationwide as the total of all states?\"\n",
    "\"Use the hospitalizedIncrease column\" \n",
    "\n",
    "\n",
    "agent.invoke(CSV_PROMPT_PREFIX + QUESTION + CSV_PROMPT_SUFFIX)"
   ]
  },
  {
   "cell_type": "code",
   "execution_count": null,
   "id": "a57903e1-bf3b-4127-ac47-0c2e0f3fabb3",
   "metadata": {},
   "outputs": [],
   "source": []
  },
  {
   "cell_type": "code",
   "execution_count": null,
   "id": "daa10d99-f198-4a30-8554-768f80db5489",
   "metadata": {},
   "outputs": [],
   "source": []
  }
 ],
 "metadata": {
  "kernelspec": {
   "display_name": "Python 3 (ipykernel)",
   "language": "python",
   "name": "python3"
  },
  "language_info": {
   "codemirror_mode": {
    "name": "ipython",
    "version": 3
   },
   "file_extension": ".py",
   "mimetype": "text/x-python",
   "name": "python",
   "nbconvert_exporter": "python",
   "pygments_lexer": "ipython3",
   "version": "3.12.7"
  }
 },
 "nbformat": 4,
 "nbformat_minor": 5
}
